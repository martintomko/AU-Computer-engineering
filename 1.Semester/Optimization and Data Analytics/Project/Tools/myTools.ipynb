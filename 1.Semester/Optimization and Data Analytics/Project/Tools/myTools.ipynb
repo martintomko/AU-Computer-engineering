{
 "cells": [
  {
   "cell_type": "code",
   "execution_count": 2,
   "metadata": {},
   "outputs": [],
   "source": [
    "import mnist\n",
    "import numpy as np\n",
    "import scipy.io as scipy\n",
    "from sklearn.decomposition import PCA\n",
    "\n",
    "from sklearn.preprocessing import OneHotEncoder # https://scikit-learn.org/stable/modules/generated/sklearn.preprocessing.OneHotEncoder.html\n",
    "from sklearn.model_selection import train_test_split # https://scikit-learn.org/stable/modules/generated/sklearn.model_selection.train_test_split.html\n"
   ]
  },
  {
   "cell_type": "code",
   "execution_count": 3,
   "metadata": {},
   "outputs": [],
   "source": [
    "def MNISTLoad():\n",
    "    train_images = mnist.train_images()\n",
    "    train_labels = mnist.train_labels()\n",
    "    test_images = mnist.test_images()\n",
    "    test_labels = mnist.test_labels()\n",
    "    train_images = train_images.reshape((train_images.shape[0], train_images.shape[1] * train_images.shape[2]))\n",
    "    test_images = test_images.reshape((test_images.shape[0], test_images.shape[1] * test_images.shape[2]))\n",
    "    return train_images, train_labels, test_images, test_labels\n",
    "    "
   ]
  },
  {
   "cell_type": "code",
   "execution_count": 4,
   "metadata": {},
   "outputs": [],
   "source": [
    "def ORLLoad():\n",
    "    lbls = scipy.loadmat('data/ORL/orl_lbls.mat')['lbls'].ravel()\n",
    "    data = scipy.loadmat('data/ORL/orl_data.mat')['data'].transpose()\n",
    "    train_data, test_data, train_lbls, test_lbls = train_test_split(data, lbls, test_size=0.3, stratify=lbls)\n",
    "    return train_data, train_lbls, test_data, test_lbls"
   ]
  },
  {
   "cell_type": "code",
   "execution_count": 5,
   "metadata": {},
   "outputs": [],
   "source": [
    "def PCA_transform(trainImgs, testImgs):\n",
    "    pca = PCA(n_components=2)\n",
    "    pca.fit(trainImgs)\n",
    "    return pca.transform(trainImgs), pca.transform(testImgs)"
   ]
  },
  {
   "cell_type": "code",
   "execution_count": 6,
   "metadata": {},
   "outputs": [],
   "source": [
    "def pre_process_data(trainData, trainLbls, testData, testLbls):\n",
    "    # Normalize data - divide them by 255 (max rgb code)\n",
    "    trainData = trainData / 255.\n",
    "    testData = testData / 255. \n",
    "    # reformat labels\n",
    "    enc = OneHotEncoder(sparse=False, categories='auto')\n",
    "    trainLbls = enc.fit_transform(trainLbls.reshape(len(trainLbls), -1))\n",
    "    testLbls = enc.transform(testLbls.reshape(len(testLbls), -1))\n",
    "    return trainData, trainLbls, testData, testLbls\n",
    " "
   ]
  }
 ],
 "metadata": {
  "kernelspec": {
   "display_name": "Python 3",
   "language": "python",
   "name": "python3"
  },
  "language_info": {
   "codemirror_mode": {
    "name": "ipython",
    "version": 3
   },
   "file_extension": ".py",
   "mimetype": "text/x-python",
   "name": "python",
   "nbconvert_exporter": "python",
   "pygments_lexer": "ipython3",
   "version": "3.7.4"
  }
 },
 "nbformat": 4,
 "nbformat_minor": 4
}
