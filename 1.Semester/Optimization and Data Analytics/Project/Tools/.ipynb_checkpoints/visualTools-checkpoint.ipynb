{
 "cells": [
  {
   "cell_type": "code",
   "execution_count": 8,
   "metadata": {},
   "outputs": [],
   "source": [
    "import numpy as np\n",
    "import matplotlib.pyplot as plt\n",
    "from matplotlib.lines import Line2D\n",
    "import random"
   ]
  },
  {
   "cell_type": "code",
   "execution_count": 9,
   "metadata": {},
   "outputs": [],
   "source": [
    "def PlotMnistExamples(mnistData):\n",
    "    fig=plt.figure(figsize=(4, 4))\n",
    "    columns = 4\n",
    "    rows = 5\n",
    "    for i in range(1, columns*rows +1):\n",
    "        img = mnistData[i].reshape((28,28))\n",
    "        fig.add_subplot(rows, columns, i)\n",
    "        plt.imshow(img,cmap='gray')\n",
    "    plt.savefig('plots/Mnist_Examples.png')\n",
    "    plt.show()\n",
    "    \n"
   ]
  },
  {
   "cell_type": "code",
   "execution_count": 10,
   "metadata": {},
   "outputs": [],
   "source": [
    "def PlotOrlExamples(orlData):\n",
    "    fig=plt.figure(figsize=(4, 4))\n",
    "    columns = 4\n",
    "    rows = 5\n",
    "    for i in range(1, columns*rows +1):\n",
    "        img = orlData[i].reshape((30,40))\n",
    "        fig.add_subplot(rows, columns, i)\n",
    "        plt.imshow(img,cmap='gray')\n",
    "    plt.savefig('plots/ORL_Examples.png')\n",
    "    plt.show()\n"
   ]
  },
  {
   "cell_type": "code",
   "execution_count": 11,
   "metadata": {},
   "outputs": [],
   "source": [
    "\n",
    "def PlotTable(data,columns,rows):\n",
    "    fig, axs = plt.subplots(2,1)\n",
    "    axs[0].axis('tight')\n",
    "    axs[0].axis('off')\n",
    "    axs[1].axis('tight')\n",
    "    axs[1].axis('off')\n",
    "    fig = plt.gcf()\n",
    "    fig.set_size_inches(11,11)\n",
    "    the_table = axs[0].table(cellText=data,colLabels=columns,rowLabels=rows,loc='center')\n",
    "    plt.savefig('plots/score_table.png')\n",
    "    plt.show()\n"
   ]
  },
  {
   "cell_type": "code",
   "execution_count": 12,
   "metadata": {},
   "outputs": [],
   "source": [
    "def Scatterplot2D(data, dataLabels, name):\n",
    "    classes = np.unique(dataLabels)\n",
    "    randomColors = [\"#\"+''.join([random.choice('0123456789ABCDEF') for j in range(6)]) for i in range(len(classes))]\n",
    "    fig, ax = plt.subplots()\n",
    "    colors = {}\n",
    "    legend = []\n",
    "    \n",
    "    if len(data) > 1000:\n",
    "        markScale = 5\n",
    "    else:\n",
    "        markScale = 40\n",
    "    \n",
    "    for x in range(len(classes)):\n",
    "        colors[classes[x]] = randomColors[x]\n",
    "        legend.append(Line2D([0], [0], marker='o', color=randomColors[x], label=classes[x], markerfacecolor=randomColors[x], markersize=6))\n",
    "        \n",
    "        \n",
    "    for i,data in list(enumerate(data)):\n",
    "        x,y = data\n",
    "        ax.scatter(x, y, s=markScale, c=colors[dataLabels[i]], label=dataLabels[i], edgecolors='none')\n",
    "\n",
    "    if len(classes) < 11:\n",
    "        lcols = 1\n",
    "    else:\n",
    "        lcols = 2\n",
    "    ax.legend(handles=legend,loc=(1.01, 0.01),ncol=lcols)\n",
    "    ax.grid(True)\n",
    "    plt.title = name\n",
    "    plt.savefig(\"plots/\"+name+\".png\")\n",
    "    plt.show()"
   ]
  },
  {
   "cell_type": "code",
   "execution_count": null,
   "metadata": {},
   "outputs": [],
   "source": []
  },
  {
   "cell_type": "code",
   "execution_count": null,
   "metadata": {},
   "outputs": [],
   "source": []
  }
 ],
 "metadata": {
  "kernelspec": {
   "display_name": "Python 3",
   "language": "python",
   "name": "python3"
  },
  "language_info": {
   "codemirror_mode": {
    "name": "ipython",
    "version": 3
   },
   "file_extension": ".py",
   "mimetype": "text/x-python",
   "name": "python",
   "nbconvert_exporter": "python",
   "pygments_lexer": "ipython3",
   "version": "3.7.4"
  }
 },
 "nbformat": 4,
 "nbformat_minor": 4
}
