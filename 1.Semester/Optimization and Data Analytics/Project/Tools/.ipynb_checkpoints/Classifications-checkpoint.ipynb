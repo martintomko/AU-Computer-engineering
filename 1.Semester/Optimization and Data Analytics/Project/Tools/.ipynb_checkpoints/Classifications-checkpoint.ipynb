{
 "cells": [
  {
   "cell_type": "code",
   "execution_count": 1,
   "metadata": {},
   "outputs": [],
   "source": [
    "from sklearn.neighbors import NearestCentroid, KNeighborsClassifier\n",
    "from sklearn.cluster import KMeans\n",
    "import numpy as np"
   ]
  },
  {
   "cell_type": "markdown",
   "metadata": {},
   "source": [
    "# Nearest Centroid"
   ]
  },
  {
   "cell_type": "code",
   "execution_count": 2,
   "metadata": {},
   "outputs": [],
   "source": [
    "class NearestC:\n",
    "    def __init__(self):\n",
    "        self.nc = NearestCentroid()\n",
    "        #self.centroids = []\n",
    "        \n",
    "    def fit(self, trainImgs, trainLbls):\n",
    "        self.nc.fit(trainImgs, trainLbls)\n",
    "        #self.centroids = self.nc.centroids_\n",
    "        return self\n",
    "    \n",
    "    def predict(self, testImgs):\n",
    "        return self.nc.predict(testImgs)"
   ]
  },
  {
   "cell_type": "markdown",
   "metadata": {},
   "source": [
    "# Nearest Subclass Centroid\n",
    "https://towardsdatascience.com/understanding-k-means-clustering-in-machine-learning-6a6e67336aa1"
   ]
  },
  {
   "cell_type": "code",
   "execution_count": null,
   "metadata": {},
   "outputs": [],
   "source": [
    "class NearestSubclassC:\n",
    "    def __init__(self, subclassCount):\n",
    "        self.kmeans = KMeans(n_clusters=subclassCount)\n",
    "        self.subclass_centers = []\n",
    "        self.classes = []\n",
    "        self.subclassCount = subclassCount\n",
    "        \n",
    "    def fit(self, trainData, trainLbls):\n",
    "        #Create set from labels so we have every of them only once (Those are our classes)\n",
    "        self.classes = np.unique(trainLbls)\n",
    "        classesCount = len(self.classes)\n",
    "        #make empty array for groups\n",
    "        dataSamples, dataFeatures = trainData.shape\n",
    "        #make empty array for centers\n",
    "        self.subclass_centers = np.zeros((classesCount, self.subclassCount, dataFeatures))\n",
    "        group_trainData = []\n",
    "        index = 0\n",
    "        for classLbl in self.classes:\n",
    "            tmpData = []\n",
    "            for i, data in enumerate(trainData):\n",
    "                if trainLbls[i]==classLbl:\n",
    "                    tmpData.append(data)\n",
    "            group_trainData.append(tmpData)\n",
    "            \n",
    "            #Find subclasses\n",
    "            self.kmeans.fit(group_trainData[index])\n",
    "            #Get centers\n",
    "            self.subclass_centers[index] = self.kmeans.cluster_centers_\n",
    "            index = index+1\n",
    "        return self\n",
    "    \n",
    "    def predict(self, testData):\n",
    "        classCount = len(self.classes)\n",
    "        dataSamples, dataFeatures = testData.shape\n",
    "        distances = np.zeros((classCount, dataSamples))\n",
    "\n",
    "        # loop over classes and get distances to each subclass\n",
    "        for k in range(classCount):\n",
    "            classDistances = np.sqrt(((testData - (self.subclass_centers[k,:,:])[:,np.newaxis,:]) ** 2).sum(axis=2))\n",
    "            distances[k] = np.min(classDistances, axis=0)\n",
    "\n",
    "        return np.asarray(np.argmin(distances,axis=0))"
   ]
  },
  {
   "cell_type": "markdown",
   "metadata": {},
   "source": [
    "# Nearest Neighbour"
   ]
  },
  {
   "cell_type": "code",
   "execution_count": 4,
   "metadata": {},
   "outputs": [],
   "source": [
    "class NearestN:\n",
    "    def __init__(self, neighbor_count, cpus):\n",
    "        self.nn = KNeighborsClassifier(neighbor_count, weights=\"distance\",  n_jobs=cpus)\n",
    "\n",
    "    def fit(self, trainData, trainLbls):\n",
    "        self.nn.fit(trainData, trainLbls)\n",
    "        return self\n",
    "\n",
    "    def predict(self, testData):\n",
    "        return self.nn.predict(testData)"
   ]
  },
  {
   "cell_type": "markdown",
   "metadata": {},
   "source": [
    "# Backpropagation Perceptron\n",
    "https://dev.to/shamdasani/build-a-flexible-neural-network-with-backpropagation-in-python"
   ]
  },
  {
   "cell_type": "code",
   "execution_count": null,
   "metadata": {},
   "outputs": [],
   "source": []
  }
 ],
 "metadata": {
  "kernelspec": {
   "display_name": "Python 3",
   "language": "python",
   "name": "python3"
  },
  "language_info": {
   "codemirror_mode": {
    "name": "ipython",
    "version": 3
   },
   "file_extension": ".py",
   "mimetype": "text/x-python",
   "name": "python",
   "nbconvert_exporter": "python",
   "pygments_lexer": "ipython3",
   "version": "3.7.4"
  }
 },
 "nbformat": 4,
 "nbformat_minor": 4
}
