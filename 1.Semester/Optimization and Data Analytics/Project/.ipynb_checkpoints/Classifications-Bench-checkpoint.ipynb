{
 "cells": [
  {
   "cell_type": "code",
   "execution_count": 3,
   "metadata": {},
   "outputs": [],
   "source": [
    "import sys\n",
    "sys.path.insert(0, './tools')\n",
    "from sklearn.metrics import accuracy_score\n",
    "from ipynb.fs.full.myTools import ORLLoad, MNISTLoad, PCA_transform\n",
    "from ipynb.fs.full.Classifications import NearestC, NearestSubclassC, NearestN\n",
    "\n"
   ]
  },
  {
   "cell_type": "markdown",
   "metadata": {},
   "source": [
    "# Parameters"
   ]
  },
  {
   "cell_type": "code",
   "execution_count": 4,
   "metadata": {},
   "outputs": [],
   "source": [
    "runMNIST = True\n",
    "runORL = False\n",
    "\n",
    "runNC = False\n",
    "runNSC = True\n",
    "runNN = False\n",
    "runBPE = False\n",
    "\n",
    "cpus = 8"
   ]
  },
  {
   "cell_type": "markdown",
   "metadata": {},
   "source": [
    "# Load data"
   ]
  },
  {
   "cell_type": "code",
   "execution_count": 5,
   "metadata": {},
   "outputs": [
    {
     "name": "stdout",
     "output_type": "stream",
     "text": [
      "ORL Loaded!\n"
     ]
    }
   ],
   "source": [
    "if runMNIST:\n",
    "    mnist_trainImgs, mnist_trainLbls, mnist_testImgs, mnist_testLbls = MNISTLoad()\n",
    "    mnist_pca_trainImgs, mnist_pca_testImgs = PCA_transform(mnist_trainImgs, mnist_testImgs)\n",
    "    print(\"MNIST Loaded!\")\n",
    "if runORL:\n",
    "    orl_trainImgs, orl_trainLbls, orl_testImgs, orl_testLbls = ORLLoad()\n",
    "    orl_pca_trainImgs, orl_pca_testImgs = PCA_transform(orl_trainImgs, orl_testImgs)\n",
    "    print(\"ORL Loaded!\")"
   ]
  },
  {
   "cell_type": "markdown",
   "metadata": {},
   "source": [
    "# Run Nearest Centroid classifier"
   ]
  },
  {
   "cell_type": "code",
   "execution_count": 6,
   "metadata": {},
   "outputs": [
    {
     "name": "stdout",
     "output_type": "stream",
     "text": [
      "NC Skipped!\n"
     ]
    }
   ],
   "source": [
    "if runNC:\n",
    "    if runMNIST:\n",
    "        print(\"Running MNIST NC!\")\n",
    "        mnist_nc_results = NearestC().fit(mnist_trainImgs, mnist_trainLbls).predict(mnist_testImgs)\n",
    "        mnist_nc_score = accuracy_score(mnist_testLbls, mnist_nc_results)\n",
    "        print(mnist_nc_score)\n",
    "\n",
    "        print(\"Running ORL NC PCA!\")\n",
    "        mnist_nc_PCA_results = NearestC().fit(mnist_pca_trainImgs, mnist_trainLbls).predict(mnist_pca_testImgs)\n",
    "        mnist_nc_PCA_score = accuracy_score(mnist_testLbls, mnist_nc_PCA_results)\n",
    "        print(mnist_nc_PCA_score)\n",
    "        \n",
    "    if runORL:\n",
    "        print(\"Running ORL NC!\")\n",
    "        orl_nc_results = NearestC().fit(orl_trainImgs, orl_trainLbls).predict(orl_testImgs)\n",
    "        orl_nc_score = accuracy_score(orl_testLbls, orl_nc_results)\n",
    "        print(orl_nc_score)\n",
    "        \n",
    "        print(\"Running ORL NC PCA!\")\n",
    "        orl_nc_PCA_results = NearestC().fit(orl_pca_trainImgs, orl_trainLbls).predict(orl_pca_testImgs)\n",
    "        orl_nc_PCA_score = accuracy_score(orl_testLbls, orl_nc_PCA_results)\n",
    "        print(orl_nc_PCA_score)\n",
    "else:\n",
    "    print(\"NC Skipped!\")\n"
   ]
  },
  {
   "cell_type": "markdown",
   "metadata": {},
   "source": [
    "# Run Nearest Subclass Centroid classifier"
   ]
  },
  {
   "cell_type": "code",
   "execution_count": 7,
   "metadata": {},
   "outputs": [
    {
     "name": "stdout",
     "output_type": "stream",
     "text": [
      "Running ORL NSC! (2)\n",
      "0.0\n",
      "Running ORL NSC! (3)\n",
      "0.0\n",
      "Running ORL NSC! (5)\n",
      "0.0\n",
      "Running ORL NSC! (2) PCA\n",
      "0.016666666666666666\n",
      "Running ORL NSC! (3) PCA\n",
      "0.016666666666666666\n",
      "Running ORL NSC! (5) PCA\n",
      "0.025\n"
     ]
    }
   ],
   "source": [
    "if runNSC:\n",
    "    if runMNIST:\n",
    "        print(\"Running MNIST NSC! (2)\")\n",
    "        mnist_nsc2_results = NearestSubclassC(2).fit(mnist_trainImgs, mnist_trainLbls).predict(mnist_testImgs)\n",
    "        mnist_nsc2_score = accuracy_score(mnist_testLbls, mnist_nsc2_results)\n",
    "        print(mnist_nsc2_score)\n",
    "        \n",
    "        #print(\"Running MNIST NSC! (3)\")\n",
    "        #mnist_nsc3_results = NearestSubclassC(3).fit(mnist_trainImgs, mnist_trainLbls).predict(mnist_testImgs)\n",
    "        #mnist_nsc3_score = accuracy_score(mnist_testLbls, mnist_nsc3_results)\n",
    "        #print(mnist_nsc3_score)\n",
    "        \n",
    "        #print(\"Running MNIST NSC! (5)\")\n",
    "        #mnist_nsc5_results = NearestSubclassC(5).fit(mnist_trainImgs, mnist_trainLbls).predict(mnist_testImgs)\n",
    "        #mnist_nsc5_score = accuracy_score(mnist_testLbls, mnist_nsc5_results)\n",
    "        #print(mnist_nsc5_score)\n",
    "        \n",
    "        print(\"Running MNIST NSC! (2) PCA\")\n",
    "        mnist_nsc2_pca_results = NearestSubclassC(2).fit(mnist_pca_trainImgs, mnist_trainLbls).predict(mnist_pca_testImgs)\n",
    "        mnist_nsc2_pca_score = accuracy_score(mnist_testLbls, mnist_nsc2_pca_results)\n",
    "        print(mnist_nsc2_pca_score)\n",
    "        \n",
    "        #print(\"Running MNIST NSC! (3) PCA\")\n",
    "        #mnist_nsc3_results = NearestSubclassC(3).fit(mnist_pca_trainImgs, mnist_trainLbls).predict(mnist_pca_testImgs)\n",
    "        #mnist_nsc3_score = accuracy_score(mnist_testLbls, mnist_nsc3_results)\n",
    "        #print(mnist_nsc3_score)\n",
    "        \n",
    "        #print(\"Running MNIST NSC! (5) PCA\")\n",
    "        #mnist_nsc5_results = NearestSubclassC(5).fit(mnist_pca_trainImgs, mnist_trainLbls).predict(mnist_pca_testImgs)\n",
    "        #mnist_nsc5_score = accuracy_score(mnist_testLbls, mnist_nsc5_results)\n",
    "        #print(mnist_nsc5_score)\n",
    "        \n",
    "    if runORL:\n",
    "        print(\"Running ORL NSC! (2)\")\n",
    "        orl_nsc2_results = NearestSubclassC(2).fit(orl_trainImgs, orl_trainLbls).predict(orl_testImgs)\n",
    "        orl_nsc2_score = accuracy_score(orl_testLbls, orl_nsc2_results)\n",
    "        print(orl_nsc2_score)\n",
    "        \n",
    "        print(\"Running ORL NSC! (3)\")\n",
    "        orl_nsc3_results = NearestSubclassC(3).fit(orl_trainImgs, orl_trainLbls).predict(orl_testImgs)\n",
    "        orl_nsc3_score = accuracy_score(orl_testLbls, orl_nsc3_results)\n",
    "        print(orl_nsc3_score)\n",
    "        \n",
    "        print(\"Running ORL NSC! (5)\")\n",
    "        orl_nsc5_results = NearestSubclassC(5).fit(orl_trainImgs, orl_trainLbls).predict(orl_testImgs)\n",
    "        orl_nsc5_score = accuracy_score(orl_testLbls, orl_nsc5_results)\n",
    "        print(orl_nsc5_score)\n",
    "        \n",
    "        print(\"Running ORL NSC! (2) PCA\")\n",
    "        orl_nsc2_pca_results = NearestSubclassC(2).fit(orl_pca_trainImgs, orl_trainLbls).predict(orl_pca_testImgs)\n",
    "        orl_nsc2_pca_score = accuracy_score(orl_testLbls, orl_nsc2_pca_results)\n",
    "        print(orl_nsc2_pca_score)\n",
    "        \n",
    "        print(\"Running ORL NSC! (3) PCA\")\n",
    "        orl_nsc3_pca_results = NearestSubclassC(3).fit(orl_pca_trainImgs, orl_trainLbls).predict(orl_pca_testImgs)\n",
    "        orl_nsc3_pca_score = accuracy_score(orl_testLbls, orl_nsc3_pca_results)\n",
    "        print(orl_nsc3_pca_score)\n",
    "        \n",
    "        print(\"Running ORL NSC! (5) PCA\")\n",
    "        orl_nsc5_pca_results = NearestSubclassC(5).fit(orl_pca_trainImgs, orl_trainLbls).predict(orl_pca_testImgs)\n",
    "        orl_nsc5_pca_score = accuracy_score(orl_testLbls, orl_nsc5_pca_results)\n",
    "        print(orl_nsc5_pca_score)\n",
    "else:\n",
    "    print(\"NSC Skipped!\")"
   ]
  },
  {
   "cell_type": "markdown",
   "metadata": {},
   "source": [
    "# Run Nearest Neighbour classifier"
   ]
  },
  {
   "cell_type": "code",
   "execution_count": 6,
   "metadata": {},
   "outputs": [
    {
     "name": "stdout",
     "output_type": "stream",
     "text": [
      "Running MNIST NN!\n",
      "0.9691\n",
      "Running ORL NN!\n",
      "0.9416666666666667\n"
     ]
    }
   ],
   "source": [
    "if runNN:\n",
    "    if runMNIST:\n",
    "        print(\"Running MNIST NN!\")\n",
    "        mnist_nn_results = NearestN(1,cpus).fit(mnist_trainImgs, mnist_trainLbls).predict(mnist_testImgs)\n",
    "        mnist_nn_score = accuracy_score(mnist_testLbls, mnist_nn_results)\n",
    "        print(mnist_nn_score)\n",
    "    if runORL:\n",
    "        print(\"Running ORL NN!\")\n",
    "        orl_nn_results = NearestN(1,cpus).fit(orl_trainImgs, orl_trainLbls).predict(orl_testImgs)\n",
    "        orl_nn_score = accuracy_score(orl_testLbls, orl_nn_results)\n",
    "        print(orl_nn_score)\n",
    "else:\n",
    "    print(\"NN Skipped!\")"
   ]
  },
  {
   "cell_type": "markdown",
   "metadata": {},
   "source": [
    "# Run Backpropagation Perceptron classifier"
   ]
  },
  {
   "cell_type": "code",
   "execution_count": 7,
   "metadata": {},
   "outputs": [
    {
     "name": "stdout",
     "output_type": "stream",
     "text": [
      "Running MNIST BPE!\n",
      "Running ORL BPE!\n"
     ]
    }
   ],
   "source": [
    "if runBPE:\n",
    "    if runMNIST:\n",
    "        print(\"Running MNIST BPE!\")\n",
    "        \n",
    "\n",
    "    if runORL:\n",
    "        print(\"Running ORL BPE!\")\n",
    "\n",
    "else:\n",
    "    print(\"BPE Skipped!\")"
   ]
  },
  {
   "cell_type": "code",
   "execution_count": null,
   "metadata": {},
   "outputs": [],
   "source": []
  }
 ],
 "metadata": {
  "kernelspec": {
   "display_name": "Python 3",
   "language": "python",
   "name": "python3"
  },
  "language_info": {
   "codemirror_mode": {
    "name": "ipython",
    "version": 3
   },
   "file_extension": ".py",
   "mimetype": "text/x-python",
   "name": "python",
   "nbconvert_exporter": "python",
   "pygments_lexer": "ipython3",
   "version": "3.7.4"
  }
 },
 "nbformat": 4,
 "nbformat_minor": 4
}
